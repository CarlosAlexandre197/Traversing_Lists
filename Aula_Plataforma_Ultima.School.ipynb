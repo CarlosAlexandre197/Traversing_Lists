{
 "cells": [
  {
   "cell_type": "code",
   "execution_count": 31,
   "id": "48b21cc3",
   "metadata": {},
   "outputs": [
    {
     "data": {
      "text/plain": [
       "'ester'"
      ]
     },
     "execution_count": 31,
     "metadata": {},
     "output_type": "execute_result"
    }
   ],
   "source": [
    "'Ester'.lower()"
   ]
  },
  {
   "cell_type": "code",
   "execution_count": 32,
   "id": "fb58f448",
   "metadata": {},
   "outputs": [
    {
     "name": "stdout",
     "output_type": "stream",
     "text": [
      "['Alexandre', 'Ester', 'TIMOTEO', 'TIAGO', 'Estevão', 'Wesley']\n"
     ]
    }
   ],
   "source": [
    "nomes = ['Alexandre', 'Ester', 'TIMOTEO', 'TIAGO', 'Estevão', 'Wesley']\n",
    "print(nomes)"
   ]
  },
  {
   "cell_type": "code",
   "execution_count": 33,
   "id": "d090ea77",
   "metadata": {},
   "outputs": [
    {
     "name": "stdout",
     "output_type": "stream",
     "text": [
      "alexandre\n",
      "ester\n",
      "timoteo\n",
      "tiago\n",
      "estevão\n",
      "wesley\n"
     ]
    }
   ],
   "source": [
    "for nome in nomes:\n",
    "    print(nome.lower())"
   ]
  },
  {
   "cell_type": "code",
   "execution_count": 34,
   "id": "4f4526cf",
   "metadata": {},
   "outputs": [
    {
     "data": {
      "text/plain": [
       "[1, 2, 3, 4, 5, 6, 7, 8, 9, 10]"
      ]
     },
     "execution_count": 34,
     "metadata": {},
     "output_type": "execute_result"
    }
   ],
   "source": [
    "list(range(1, 11))"
   ]
  },
  {
   "cell_type": "code",
   "execution_count": 1,
   "id": "173441c3",
   "metadata": {},
   "outputs": [
    {
     "name": "stdout",
     "output_type": "stream",
     "text": [
      "100\n",
      "200\n",
      "300\n",
      "400\n",
      "500\n",
      "600\n",
      "700\n",
      "800\n",
      "900\n",
      "1000\n"
     ]
    }
   ],
   "source": [
    "for num in range(1, 11):\n",
    "    print(num * 100)"
   ]
  },
  {
   "cell_type": "code",
   "execution_count": null,
   "id": "bb0229f8",
   "metadata": {},
   "outputs": [],
   "source": []
  },
  {
   "cell_type": "markdown",
   "id": "962a1162",
   "metadata": {},
   "source": []
  },
  {
   "cell_type": "code",
   "execution_count": null,
   "id": "ca629040",
   "metadata": {},
   "outputs": [],
   "source": []
  }
 ],
 "metadata": {
  "kernelspec": {
   "display_name": "Python 3 (ipykernel)",
   "language": "python",
   "name": "python3"
  },
  "language_info": {
   "codemirror_mode": {
    "name": "ipython",
    "version": 3
   },
   "file_extension": ".py",
   "mimetype": "text/x-python",
   "name": "python",
   "nbconvert_exporter": "python",
   "pygments_lexer": "ipython3",
   "version": "3.11.1"
  },
  "vscode": {
   "interpreter": {
    "hash": "84b0e05ecfb3139b35f9740284c472348879eabe05a62047ed0e4a23495167bd"
   }
  }
 },
 "nbformat": 4,
 "nbformat_minor": 5
}
